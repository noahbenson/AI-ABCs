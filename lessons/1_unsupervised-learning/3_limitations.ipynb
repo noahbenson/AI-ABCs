{
 "cells": [
  {
   "cell_type": "markdown",
   "id": "ed477029-03ff-4bde-bf06-2d29bcd1b632",
   "metadata": {},
   "source": [
    "# Limitations of Unsupervised Methods"
   ]
  },
  {
   "cell_type": "markdown",
   "id": "bbb367c7-2606-40cf-b9ad-f6564c7ee36b",
   "metadata": {},
   "source": [
    "In the previous two sections, we saw examples of the K-Means and Principal Component Analysis (PCA) methods, both of which are examples of unsupervised learning."
   ]
  }
 ],
 "metadata": {
  "kernelspec": {
   "display_name": "Python 3 (ipykernel)",
   "language": "python",
   "name": "python3"
  },
  "language_info": {
   "codemirror_mode": {
    "name": "ipython",
    "version": 3
   },
   "file_extension": ".py",
   "mimetype": "text/x-python",
   "name": "python",
   "nbconvert_exporter": "python",
   "pygments_lexer": "ipython3",
   "version": "3.12.11"
  }
 },
 "nbformat": 4,
 "nbformat_minor": 5
}
