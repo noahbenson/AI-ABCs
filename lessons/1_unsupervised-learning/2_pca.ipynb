{
 "cells": [
  {
   "cell_type": "markdown",
   "id": "cf8e3123-258f-4fc9-8433-de030fa5b4ec",
   "metadata": {},
   "source": [
    "# Principal Component Analysis"
   ]
  },
  {
   "cell_type": "markdown",
   "id": "00509dcd-b940-4cf2-8145-844ee3fb8c54",
   "metadata": {},
   "source": [
    "One of the simplest and most widely used techniques in machine learning is principal component analysis (PCA). PCA is a tool for understanding the variance in a dataset&mdash;i.e., what are the main ways that observations in the dataset vary.\n",
    "\n",
    "To introduce the basic idea, imagine that you are given a dataset that contains three variables (columns) and 1,000 observations (rows). The dataset contains the measurements of the sizes (in square centimeters) of three different spots that appear on the wings of a particular kind of butterfly. Each row represents a different butterfly whose spots were measured, and each column represents one of the spots.\n",
    "\n",
    "At first glance, the data do not appear unusual. You examine the mean and standard deviation of each spot's size and find the following:\n",
    "\n",
    "|spot|mean|standard deviation|\n",
    "|:--:|:--:|:------:|\n",
    "|1 ($x$-axis)|1.2 cm$^2$| 0.095 cm$^2$|\n",
    "|2 ($y$-axis)|0.7 cm$^2$| 0.128 cm$^2$|\n",
    "|3 ($z$-axis)|0.4 cm$^2$| 0.065 cm$^2$|\n",
    "\n",
    "You might suspect that there is some covariance in the spots, so you might go ahead and make plots of each size versus each other:"
   ]
  },
  {
   "cell_type": "code",
   "execution_count": null,
   "id": "451078d4-f0c5-4f82-82f4-bc4f79fde770",
   "metadata": {
    "tags": [
     "hide-input"
    ]
   },
   "outputs": [],
   "source": [
    "%matplotlib inline\n",
    "\n",
    "# This code-block generates random data-points and makes a set of plots in\n",
    "# line with the textual description of the notebook. Understanding this\n",
    "# code-block is not required for understanding the lesson.\n",
    "\n",
    "import matplotlib.pyplot as plt\n",
    "import numpy as np\n",
    "\n",
    "n = 1000\n",
    "seed = 0\n",
    "\n",
    "np.random.seed(seed)\n",
    "x0 = np.random.randn(n)*0.15 # + 1.2\n",
    "y0 = np.random.randn(n)*0.09 # + 0.7\n",
    "z0 = np.random.randn(n)*0.01 # + 0.4\n",
    "coords0 = np.stack([x0, y0, z0], axis=0)\n",
    "coords = np.dot(\n",
    "    [[0.408248, -0.816497, 0.408248],\n",
    "     [0.816497, 0.526599, 0.236701],\n",
    "     [-0.408248, 0.236701, 0.88165]],\n",
    "    coords0)\n",
    "coords += [[1.2],[0.7],[0.4]]\n",
    "\n",
    "(fig,axs) = plt.subplots(1, 3, figsize=(7,1.5), dpi=288)\n",
    "fig.subplots_adjust(0,0,1,1,0.4,0)\n",
    "\n",
    "(x,y,z) = coords\n",
    "axlbls = [r'Spot {ii} Size [cm$^2$]'.format(ii=ii) for ii in (1,2,3)]\n",
    "\n",
    "axs[0].plot(x, y, 'k.')\n",
    "axs[0].set_xlabel(axlbls[0])\n",
    "axs[0].set_ylabel(axlbls[1])\n",
    "\n",
    "axs[1].plot(y, z, 'k.')\n",
    "axs[1].set_xlabel(axlbls[1])\n",
    "axs[1].set_ylabel(axlbls[2])\n",
    "\n",
    "axs[2].plot(z, x, 'k.')\n",
    "axs[2].set_xlabel(axlbls[2])\n",
    "axs[2].set_ylabel(axlbls[0])\n",
    "\n",
    "for ax in axs:\n",
    "    ax.axis('equal')\n",
    "\n",
    "plt.show()"
   ]
  },
  {
   "cell_type": "markdown",
   "id": "bfb757fe-eaa3-4901-82cc-23275ead302b",
   "metadata": {},
   "source": [
    "However, imagine that next you make a 3D animation of the data to get a better sense for its overall structure. When you view the animation, it looks like this:"
   ]
  },
  {
   "cell_type": "code",
   "execution_count": null,
   "id": "8ee25e0a-b3c4-42bd-acdc-36baf1dd3b48",
   "metadata": {
    "editable": true,
    "slideshow": {
     "slide_type": ""
    },
    "tags": []
   },
   "outputs": [],
   "source": [
    "%matplotlib widget\n",
    "\n",
    "# We need mpld3 to get an HTML version of the 3D figure.\n",
    "import mpld3\n",
    "\n",
    "# This code-block generates a 3D plot of the points generated in the code cell\n",
    "# above this one. Understanding this code-block is not required for the lesson.\n",
    "\n",
    "(fig,ax) = plt.subplots(1, 1, figsize=(2,2), dpi=144)\n",
    "fig.subplots_adjust(0,0,1,1,0,0)\n",
    "framecount = 600\n",
    "coordplot = ax.scatter(coords[0], coords[2], c='k', ec=None, s=4)\n",
    "ax.set_xlim([-0.6,0.6])\n",
    "ax.set_ylim([-0.6,0.6])\n",
    "y0 = coords[1] - np.mean(coords[1])\n",
    "xz0 = coords[[0,2],:]\n",
    "xz0 = xz0 - np.mean(xz0, axis=1)[:,None]\n",
    "def _draw_frame(frame):\n",
    "    points = coords[[0,2],:]\n",
    "    axspts = np.array([[1,0],[0,1]])\n",
    "    # Rotate the points\n",
    "    th = 2*np.pi*frame / (framecount - 1)\n",
    "    rmtx = np.array([[np.cos(th), -np.sin(th)], [np.sin(th), np.cos(th)]])\n",
    "    points = rmtx @ xz0\n",
    "    coordplot.set_offsets(np.c_[points[0], y0])\n",
    "    return (coordplot,)\n",
    "\n",
    "from matplotlib.animation import FuncAnimation\n",
    "from IPython.display import HTML\n",
    "anim = FuncAnimation(\n",
    "    fig,\n",
    "    _draw_frame,\n",
    "    frames=framecount,\n",
    "    interval=30,\n",
    "    blit=True)\n",
    "\n",
    "display(HTML(anim.to_jshtml(default_mode='loop')))\n",
    "\n",
    "plt.close(fig)"
   ]
  }
 ],
 "metadata": {
  "kernelspec": {
   "display_name": "Python 3 (ipykernel)",
   "language": "python",
   "name": "python3"
  },
  "language_info": {
   "codemirror_mode": {
    "name": "ipython",
    "version": 3
   },
   "file_extension": ".py",
   "mimetype": "text/x-python",
   "name": "python",
   "nbconvert_exporter": "python",
   "pygments_lexer": "ipython3",
   "version": "3.12.11"
  }
 },
 "nbformat": 4,
 "nbformat_minor": 5
}
