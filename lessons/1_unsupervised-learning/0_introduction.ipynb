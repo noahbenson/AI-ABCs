{
 "cells": [
  {
   "cell_type": "markdown",
   "id": "7ba88e6d-1eb2-4c87-a4f6-fe544fe7a2c8",
   "metadata": {},
   "source": [
    "# What is Unsupervised Learning?"
   ]
  },
  {
   "cell_type": "markdown",
   "id": "90302ac9-6a64-4b21-9262-b988c59071e4",
   "metadata": {
    "editable": true,
    "slideshow": {
     "slide_type": ""
    },
    "tags": []
   },
   "source": [
    "If a method is an \"unsupervised learning\" method, that means that it can be used to deduce facts about a dataset without being shown any examples of those facts. A \"supervised learning\" method, in contrast, learns by studying a set of example facts how to predict what facts are appropriate for unseen data. For example, suppose you make a set of detailed measurements of the nutritional and health profiles of several rabbits over a number of years. To analyze these data, you could start by attempting to cluster the rabbits into groups that had similar nutritional profiles&mdash;such an action would be an unsupervised learning approach because it predicts a class for each rabbit without knowing or seeing any examples of correctly classified rabbits. After performing this clustering you might then try to understand how nutrition and health are related in the dataset by sorting the rabbits by the overall quality of their nutritional profiles and assessing which characteristics of a rabbit's nutritional profile lead to improvements in its health&mdash;such an assessment would be a supervised learning approach because it learns the correct association between nutrition and health from examples (the rabbits in the dataset)."
   ]
  },
  {
   "cell_type": "markdown",
   "id": "6b6947dd-35af-4ee7-b110-992debd40732",
   "metadata": {},
   "source": [
    "Common types of unsupervised learning include [clustering](https://en.wikipedia.org/wiki/Cluster_analysis), as in the example above, as well as [dimensionality reduction](https://en.wikipedia.org/wiki/Dimensionality_reduction), [outlier detection](https://en.wikipedia.org/wiki/Anomaly_detection), and [kernel density estimation](https://en.wikipedia.org/wiki/Kernel_density_estimation)."
   ]
  },
  {
   "cell_type": "markdown",
   "id": "3bb135dd-4a96-4a50-8749-188428b6eacb",
   "metadata": {},
   "source": [
    "## Why use Unsupervised Learning?"
   ]
  },
  {
   "cell_type": "markdown",
   "id": "a89a9646-84dd-49d1-9d9f-88426c39a770",
   "metadata": {},
   "source": [
    "Frequently in research we do not have the luxury of correct examples from which to train a supervised machine learning algorithm. In such cases, we attempt to deduce as much as possible from the data itself. We can ask questions about how the dimensions of the data vary, what patterns of variability appear, and can the data be clustered into classes based on simple notions of distance?\n",
    "\n",
    "Unsupervised learning is often a useful starting point for more detailed analyses because several unsupervised methods perform well at the task of simplifying data. For example, in a high-dimensional dataset like a survey with hundreds of questions, it can be very hard to find patterns and similarities in responses by hand, but a dimensionality reduction technique can easily visualize groups of respondents whose answers covaried similarly. Once observed, such a relationship can then be tested more formally with a model."
   ]
  },
  {
   "cell_type": "markdown",
   "id": "fdeb33f0-fdac-4b5e-8bbe-947780402766",
   "metadata": {},
   "source": [
    "## The California Housing Dataset"
   ]
  },
  {
   "cell_type": "markdown",
   "id": "4b4ee3ca-59b8-471c-b8ff-10a785620a3a",
   "metadata": {},
   "source": [
    "To learn about any machine learning or artificial intelligence method, it's always useful to have an example dataset, and for these lessons we will use the [California Housing Dataset](https://www.spatial-statistics.com/pace_manuscripts/spletters_ms_dir/statistics_prob_lets/html/ms_sp_lets1.html), which can be loaded by the [Scikit-learn library](https://scikit-learn.org/stable/). This dataset contains observations about the makeup and locations of households across California based on the 1990 U.S. Census. "
   ]
  },
  {
   "cell_type": "code",
   "execution_count": 13,
   "id": "a8c01214-8e09-4777-a540-e20d69d63d82",
   "metadata": {},
   "outputs": [
    {
     "name": "stdout",
     "output_type": "stream",
     "text": [
      ".. _california_housing_dataset:\n",
      "\n",
      "California Housing dataset\n",
      "--------------------------\n",
      "\n",
      "**Data Set Characteristics:**\n",
      "\n",
      ":Number of Instances: 20640\n",
      "\n",
      ":Number of Attributes: 8 numeric, predictive attributes and the target\n",
      "\n",
      ":Attribute Information:\n",
      "    - MedInc        median income in block group\n",
      "    - HouseAge      median house age in block group\n",
      "    - AveRooms      average number of rooms per household\n",
      "    - AveBedrms     average number of bedrooms per household\n",
      "    - Population    block group population\n",
      "    - AveOccup      average number of household members\n",
      "    - Latitude      block group latitude\n",
      "    - Longitude     block group longitude\n",
      "\n",
      ":Missing Attribute Values: None\n",
      "\n",
      "This dataset was obtained from the StatLib repository.\n",
      "https://www.dcc.fc.up.pt/~ltorgo/Regression/cal_housing.html\n",
      "\n",
      "The target variable is the median house value for California districts,\n",
      "expressed in hundreds of thousands of dollars ($100,000).\n",
      "\n",
      "This dataset was derived from the 1990 U.S. census, using one row per census\n",
      "block group. A block group is the smallest geographical unit for which the U.S.\n",
      "Census Bureau publishes sample data (a block group typically has a population\n",
      "of 600 to 3,000 people).\n",
      "\n",
      "A household is a group of people residing within a home. Since the average\n",
      "number of rooms and bedrooms in this dataset are provided per household, these\n",
      "columns may take surprisingly large values for block groups with few households\n",
      "and many empty houses, such as vacation resorts.\n",
      "\n",
      "It can be downloaded/loaded using the\n",
      ":func:`sklearn.datasets.fetch_california_housing` function.\n",
      "\n",
      ".. rubric:: References\n",
      "\n",
      "- Pace, R. Kelley and Ronald Barry, Sparse Spatial Autoregressions,\n",
      "  Statistics and Probability Letters, 33:291-297, 1997.\n",
      "\n"
     ]
    }
   ],
   "source": [
    "# First, we need to import scikit-learn:\n",
    "import sklearn as skl\n",
    "\n",
    "# Next, we use scikit-learn to download and return the CA housing dataset:\n",
    "ca_housing_dataset = skl.datasets.fetch_california_housing()\n",
    "\n",
    "# Extract the actual data rows and the feature names:\n",
    "ca_housing_featdata = ca_housing_dataset['data']\n",
    "ca_housing_featnames = ca_housing_dataset['feature_names']\n",
    "\n",
    "# We also extract the \"target\" data:\n",
    "ca_housing_targdata = ca_housing_dataset['target']\n",
    "ca_housing_targnames = ca_housing_dataset['target_names']\n",
    "\n",
    "# Print the description of the dataset:\n",
    "print(ca_housing_dataset['DESCR'])"
   ]
  },
  {
   "cell_type": "markdown",
   "id": "9808e017-e28f-44f9-95f8-c355bd5f2458",
   "metadata": {},
   "source": [
    "### Dataset Features"
   ]
  },
  {
   "cell_type": "markdown",
   "id": "8db3a4b3-7e93-4425-9749-02e6b2951c9f",
   "metadata": {},
   "source": [
    "The `data` from the CA housing dataset is represented as a NumPy array whose rows represent a census block and whose columns represent house-related features (dimensions) of each census block such as the average age of a block's houses and the average number of bedrooms of houses in each block. See the dataset description above for more information.\n",
    "\n",
    "A quick inspection confirms that there are the same number of feature names in the dataset as there are columns in the data matrix."
   ]
  },
  {
   "cell_type": "code",
   "execution_count": 14,
   "id": "b1b1bda5-ec56-4196-8db7-f6cbace94a0f",
   "metadata": {},
   "outputs": [
    {
     "name": "stdout",
     "output_type": "stream",
     "text": [
      "Feature names: 8\n",
      "Data shape: (20640, 8)\n"
     ]
    }
   ],
   "source": [
    "print(f'Feature names: {len(ca_housing_featnames)}')\n",
    "print(f'Data shape: {ca_housing_featdata.shape}')"
   ]
  },
  {
   "cell_type": "markdown",
   "id": "aa1420e8-32b5-4684-b10b-958892a60be7",
   "metadata": {},
   "source": [
    "We can use Pandas to organize the feature matrix and feature names into a `DataFrame`."
   ]
  },
  {
   "cell_type": "code",
   "execution_count": 16,
   "id": "a37cfc8c-fad0-4c4a-8780-6819c382a5d8",
   "metadata": {},
   "outputs": [
    {
     "data": {
      "text/html": [
       "<div>\n",
       "<style scoped>\n",
       "    .dataframe tbody tr th:only-of-type {\n",
       "        vertical-align: middle;\n",
       "    }\n",
       "\n",
       "    .dataframe tbody tr th {\n",
       "        vertical-align: top;\n",
       "    }\n",
       "\n",
       "    .dataframe thead th {\n",
       "        text-align: right;\n",
       "    }\n",
       "</style>\n",
       "<table border=\"1\" class=\"dataframe\">\n",
       "  <thead>\n",
       "    <tr style=\"text-align: right;\">\n",
       "      <th></th>\n",
       "      <th>MedInc</th>\n",
       "      <th>HouseAge</th>\n",
       "      <th>AveRooms</th>\n",
       "      <th>AveBedrms</th>\n",
       "      <th>Population</th>\n",
       "      <th>AveOccup</th>\n",
       "      <th>Latitude</th>\n",
       "      <th>Longitude</th>\n",
       "    </tr>\n",
       "  </thead>\n",
       "  <tbody>\n",
       "    <tr>\n",
       "      <th>0</th>\n",
       "      <td>8.3252</td>\n",
       "      <td>41.0</td>\n",
       "      <td>6.984127</td>\n",
       "      <td>1.023810</td>\n",
       "      <td>322.0</td>\n",
       "      <td>2.555556</td>\n",
       "      <td>37.88</td>\n",
       "      <td>-122.23</td>\n",
       "    </tr>\n",
       "    <tr>\n",
       "      <th>1</th>\n",
       "      <td>8.3014</td>\n",
       "      <td>21.0</td>\n",
       "      <td>6.238137</td>\n",
       "      <td>0.971880</td>\n",
       "      <td>2401.0</td>\n",
       "      <td>2.109842</td>\n",
       "      <td>37.86</td>\n",
       "      <td>-122.22</td>\n",
       "    </tr>\n",
       "    <tr>\n",
       "      <th>2</th>\n",
       "      <td>7.2574</td>\n",
       "      <td>52.0</td>\n",
       "      <td>8.288136</td>\n",
       "      <td>1.073446</td>\n",
       "      <td>496.0</td>\n",
       "      <td>2.802260</td>\n",
       "      <td>37.85</td>\n",
       "      <td>-122.24</td>\n",
       "    </tr>\n",
       "    <tr>\n",
       "      <th>3</th>\n",
       "      <td>5.6431</td>\n",
       "      <td>52.0</td>\n",
       "      <td>5.817352</td>\n",
       "      <td>1.073059</td>\n",
       "      <td>558.0</td>\n",
       "      <td>2.547945</td>\n",
       "      <td>37.85</td>\n",
       "      <td>-122.25</td>\n",
       "    </tr>\n",
       "    <tr>\n",
       "      <th>4</th>\n",
       "      <td>3.8462</td>\n",
       "      <td>52.0</td>\n",
       "      <td>6.281853</td>\n",
       "      <td>1.081081</td>\n",
       "      <td>565.0</td>\n",
       "      <td>2.181467</td>\n",
       "      <td>37.85</td>\n",
       "      <td>-122.25</td>\n",
       "    </tr>\n",
       "    <tr>\n",
       "      <th>...</th>\n",
       "      <td>...</td>\n",
       "      <td>...</td>\n",
       "      <td>...</td>\n",
       "      <td>...</td>\n",
       "      <td>...</td>\n",
       "      <td>...</td>\n",
       "      <td>...</td>\n",
       "      <td>...</td>\n",
       "    </tr>\n",
       "    <tr>\n",
       "      <th>20635</th>\n",
       "      <td>1.5603</td>\n",
       "      <td>25.0</td>\n",
       "      <td>5.045455</td>\n",
       "      <td>1.133333</td>\n",
       "      <td>845.0</td>\n",
       "      <td>2.560606</td>\n",
       "      <td>39.48</td>\n",
       "      <td>-121.09</td>\n",
       "    </tr>\n",
       "    <tr>\n",
       "      <th>20636</th>\n",
       "      <td>2.5568</td>\n",
       "      <td>18.0</td>\n",
       "      <td>6.114035</td>\n",
       "      <td>1.315789</td>\n",
       "      <td>356.0</td>\n",
       "      <td>3.122807</td>\n",
       "      <td>39.49</td>\n",
       "      <td>-121.21</td>\n",
       "    </tr>\n",
       "    <tr>\n",
       "      <th>20637</th>\n",
       "      <td>1.7000</td>\n",
       "      <td>17.0</td>\n",
       "      <td>5.205543</td>\n",
       "      <td>1.120092</td>\n",
       "      <td>1007.0</td>\n",
       "      <td>2.325635</td>\n",
       "      <td>39.43</td>\n",
       "      <td>-121.22</td>\n",
       "    </tr>\n",
       "    <tr>\n",
       "      <th>20638</th>\n",
       "      <td>1.8672</td>\n",
       "      <td>18.0</td>\n",
       "      <td>5.329513</td>\n",
       "      <td>1.171920</td>\n",
       "      <td>741.0</td>\n",
       "      <td>2.123209</td>\n",
       "      <td>39.43</td>\n",
       "      <td>-121.32</td>\n",
       "    </tr>\n",
       "    <tr>\n",
       "      <th>20639</th>\n",
       "      <td>2.3886</td>\n",
       "      <td>16.0</td>\n",
       "      <td>5.254717</td>\n",
       "      <td>1.162264</td>\n",
       "      <td>1387.0</td>\n",
       "      <td>2.616981</td>\n",
       "      <td>39.37</td>\n",
       "      <td>-121.24</td>\n",
       "    </tr>\n",
       "  </tbody>\n",
       "</table>\n",
       "<p>20640 rows × 8 columns</p>\n",
       "</div>"
      ],
      "text/plain": [
       "       MedInc  HouseAge  AveRooms  AveBedrms  Population  AveOccup  Latitude  \\\n",
       "0      8.3252      41.0  6.984127   1.023810       322.0  2.555556     37.88   \n",
       "1      8.3014      21.0  6.238137   0.971880      2401.0  2.109842     37.86   \n",
       "2      7.2574      52.0  8.288136   1.073446       496.0  2.802260     37.85   \n",
       "3      5.6431      52.0  5.817352   1.073059       558.0  2.547945     37.85   \n",
       "4      3.8462      52.0  6.281853   1.081081       565.0  2.181467     37.85   \n",
       "...       ...       ...       ...        ...         ...       ...       ...   \n",
       "20635  1.5603      25.0  5.045455   1.133333       845.0  2.560606     39.48   \n",
       "20636  2.5568      18.0  6.114035   1.315789       356.0  3.122807     39.49   \n",
       "20637  1.7000      17.0  5.205543   1.120092      1007.0  2.325635     39.43   \n",
       "20638  1.8672      18.0  5.329513   1.171920       741.0  2.123209     39.43   \n",
       "20639  2.3886      16.0  5.254717   1.162264      1387.0  2.616981     39.37   \n",
       "\n",
       "       Longitude  \n",
       "0        -122.23  \n",
       "1        -122.22  \n",
       "2        -122.24  \n",
       "3        -122.25  \n",
       "4        -122.25  \n",
       "...          ...  \n",
       "20635    -121.09  \n",
       "20636    -121.21  \n",
       "20637    -121.22  \n",
       "20638    -121.32  \n",
       "20639    -121.24  \n",
       "\n",
       "[20640 rows x 8 columns]"
      ]
     },
     "execution_count": 16,
     "metadata": {},
     "output_type": "execute_result"
    }
   ],
   "source": [
    "# To organize the dataset into a dataframe, we use Pandas:\n",
    "import pandas as pd\n",
    "\n",
    "feat_df = pd.DataFrame(dict(zip(ca_housing_featnames, ca_housing_featdata.T)))\n",
    "\n",
    "# Display the dataframe:\n",
    "feat_df"
   ]
  },
  {
   "cell_type": "markdown",
   "id": "69bcafe9-bf21-4019-ac07-e73446c0acaf",
   "metadata": {},
   "source": [
    "### Target Data"
   ]
  },
  {
   "cell_type": "markdown",
   "id": "37d3121d-0792-4068-8473-73e152b984ba",
   "metadata": {},
   "source": [
    "The CA housing dataset contains a \"target\" variable representing the median value of a house in each census block. Although we won't be using this target value in our methods (because we will be studying unsupervised methods in this lesson), we will want to look at it periodically to see if our unsupervised methods have deduced anything useful.\n",
    "\n",
    "We can keep track of the target data by making it into its own DataFrame."
   ]
  },
  {
   "cell_type": "code",
   "execution_count": 17,
   "id": "44aa1e47-df9d-41d9-a0ba-d7aa779d850a",
   "metadata": {},
   "outputs": [
    {
     "data": {
      "text/html": [
       "<div>\n",
       "<style scoped>\n",
       "    .dataframe tbody tr th:only-of-type {\n",
       "        vertical-align: middle;\n",
       "    }\n",
       "\n",
       "    .dataframe tbody tr th {\n",
       "        vertical-align: top;\n",
       "    }\n",
       "\n",
       "    .dataframe thead th {\n",
       "        text-align: right;\n",
       "    }\n",
       "</style>\n",
       "<table border=\"1\" class=\"dataframe\">\n",
       "  <thead>\n",
       "    <tr style=\"text-align: right;\">\n",
       "      <th></th>\n",
       "      <th>MedHouseVal</th>\n",
       "    </tr>\n",
       "  </thead>\n",
       "  <tbody>\n",
       "    <tr>\n",
       "      <th>0</th>\n",
       "      <td>4.526</td>\n",
       "    </tr>\n",
       "    <tr>\n",
       "      <th>1</th>\n",
       "      <td>3.585</td>\n",
       "    </tr>\n",
       "    <tr>\n",
       "      <th>2</th>\n",
       "      <td>3.521</td>\n",
       "    </tr>\n",
       "    <tr>\n",
       "      <th>3</th>\n",
       "      <td>3.413</td>\n",
       "    </tr>\n",
       "    <tr>\n",
       "      <th>4</th>\n",
       "      <td>3.422</td>\n",
       "    </tr>\n",
       "    <tr>\n",
       "      <th>...</th>\n",
       "      <td>...</td>\n",
       "    </tr>\n",
       "    <tr>\n",
       "      <th>20635</th>\n",
       "      <td>0.781</td>\n",
       "    </tr>\n",
       "    <tr>\n",
       "      <th>20636</th>\n",
       "      <td>0.771</td>\n",
       "    </tr>\n",
       "    <tr>\n",
       "      <th>20637</th>\n",
       "      <td>0.923</td>\n",
       "    </tr>\n",
       "    <tr>\n",
       "      <th>20638</th>\n",
       "      <td>0.847</td>\n",
       "    </tr>\n",
       "    <tr>\n",
       "      <th>20639</th>\n",
       "      <td>0.894</td>\n",
       "    </tr>\n",
       "  </tbody>\n",
       "</table>\n",
       "<p>20640 rows × 1 columns</p>\n",
       "</div>"
      ],
      "text/plain": [
       "       MedHouseVal\n",
       "0            4.526\n",
       "1            3.585\n",
       "2            3.521\n",
       "3            3.413\n",
       "4            3.422\n",
       "...            ...\n",
       "20635        0.781\n",
       "20636        0.771\n",
       "20637        0.923\n",
       "20638        0.847\n",
       "20639        0.894\n",
       "\n",
       "[20640 rows x 1 columns]"
      ]
     },
     "execution_count": 17,
     "metadata": {},
     "output_type": "execute_result"
    }
   ],
   "source": [
    "targ_df = pd.DataFrame({ca_housing_targnames[0]: ca_housing_targdata})\n",
    "\n",
    "targ_df"
   ]
  },
  {
   "cell_type": "markdown",
   "id": "efe9bd36-ed00-4a2b-9ff0-de5c14edfff8",
   "metadata": {},
   "source": [
    "## Goals"
   ]
  },
  {
   "cell_type": "markdown",
   "id": "237e5ad2-4e8c-439f-8577-5c770c7b3500",
   "metadata": {},
   "source": [
    "In this lesson we will deduce what we can about the California Housing dataset and attempt to make predictions about the dataset's target variables. Because this lesson is on unsupervised learning, we won't be using the target data to train any of the methods in this lesson, but we will see whether we can learn about the target variable nonetheless.\n",
    "\n",
    "By the end of this lesson, you should be comfortable with the following concepts:\n",
    "* We'll first look at the k-Nearest Neighbor (KNN) algorithm for putting rows of the CA housing dataset into clusters based on their similarity.\n",
    "* Next, we'll use Principal Component Analysis (PCA) to visualize and examine the covariance of the dataset.\n",
    "* Finally, we'll look at some ways that these methods can fail by comparing them to Locally Linear Embedding (LLE)."
   ]
  },
  {
   "cell_type": "markdown",
   "id": "727f5142-2e86-4ab7-8d03-9867795a91ef",
   "metadata": {},
   "source": [
    "## Additional Resources"
   ]
  },
  {
   "cell_type": "markdown",
   "id": "f99ecc3c-c723-4411-889a-781a6290ad0a",
   "metadata": {},
   "source": [
    "* [Unsupervised Learning at Wikipedia](https://en.wikipedia.org/wiki/Unsupervised_learning)\n",
    "* [Unsupervised Learning algorithms in Scikit-Learn](https://scikit-learn.org/stable/unsupervised_learning.html)"
   ]
  }
 ],
 "metadata": {
  "kernelspec": {
   "display_name": "Python 3 (ipykernel)",
   "language": "python",
   "name": "python3"
  },
  "language_info": {
   "codemirror_mode": {
    "name": "ipython",
    "version": 3
   },
   "file_extension": ".py",
   "mimetype": "text/x-python",
   "name": "python",
   "nbconvert_exporter": "python",
   "pygments_lexer": "ipython3",
   "version": "3.12.11"
  }
 },
 "nbformat": 4,
 "nbformat_minor": 5
}
