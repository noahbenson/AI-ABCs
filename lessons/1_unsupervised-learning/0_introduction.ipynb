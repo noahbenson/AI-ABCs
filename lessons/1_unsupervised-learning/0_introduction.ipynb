{
 "cells": [
  {
   "cell_type": "markdown",
   "id": "e043a3ff-6c8c-4830-90da-5a8e1eb2e6a3",
   "metadata": {
    "editable": true,
    "slideshow": {
     "slide_type": ""
    },
    "tags": []
   },
   "source": [
    "# What is Unsupervised Learning?"
   ]
  },
  {
   "cell_type": "markdown",
   "id": "90302ac9-6a64-4b21-9262-b988c59071e4",
   "metadata": {
    "editable": true,
    "slideshow": {
     "slide_type": ""
    },
    "tags": []
   },
   "source": [
    "If a method is an \"unsupervised learning\" method, that means that it can be used to deduce facts about a dataset without being shown any examples of those facts. A \"supervised learning\" method, in contrast, learns by studying a set of example facts how to predict what facts are appropriate for unseen data. For example, suppose you make a set of detailed measurements of the nutritional and health profiles of several rabbits over a number of years. To analyze these data, you could start by attempting to cluster the rabbits into groups that had similar nutritional profiles&mdash;such an action would be an unsupervised learning approach because it predicts a class for each rabbit without knowing or seeing any examples of correctly classified rabbits. After performing this clustering you might then try to understand how nutrition and health are related in the dataset by sorting the rabbits by the overall quality of their nutritional profiles and assessing which characteristics of a rabbit's nutritional profile lead to improvements in its health&mdash;such an assessment would be a supervised learning approach because it learns the correct association between nutrition and health from examples (the rabbits in the dataset)."
   ]
  },
  {
   "cell_type": "markdown",
   "id": "6b6947dd-35af-4ee7-b110-992debd40732",
   "metadata": {},
   "source": [
    "Common types of unsupervised learning include [clustering](https://en.wikipedia.org/wiki/Cluster_analysis), as in the example above, as well as [dimensionality reduction](https://en.wikipedia.org/wiki/Dimensionality_reduction), [outlier detection](https://en.wikipedia.org/wiki/Anomaly_detection), and [kernel density estimation](https://en.wikipedia.org/wiki/Kernel_density_estimation)."
   ]
  },
  {
   "cell_type": "markdown",
   "id": "3bb135dd-4a96-4a50-8749-188428b6eacb",
   "metadata": {},
   "source": [
    "## Why use Unsupervised Learning?"
   ]
  },
  {
   "cell_type": "markdown",
   "id": "a89a9646-84dd-49d1-9d9f-88426c39a770",
   "metadata": {},
   "source": [
    "Frequently in research we do not have the luxury of correct examples from which to train a supervised machine learning algorithm. In such cases, we attempt to deduce as much as possible from the data itself. We can ask questions about how the dimensions of the data vary, what patterns of variability appear, and can the data be clustered into classes based on simple notions of distance?\n",
    "\n",
    "Unsupervised learning is often a useful starting point for more detailed analyses because several unsupervised methods perform well at the task of simplifying data. For example, in a high-dimensional dataset like a survey with hundreds of questions, it can be very hard to find patterns and similarities in responses by hand, but a dimensionality reduction technique can easily visualize groups of respondents whose answers covaried similarly. Once observed, such a relationship can then be tested more formally with a model."
   ]
  },
  {
   "cell_type": "markdown",
   "id": "fdeb33f0-fdac-4b5e-8bbe-947780402766",
   "metadata": {},
   "source": [
    "## The California Housing Dataset"
   ]
  },
  {
   "cell_type": "markdown",
   "id": "4b4ee3ca-59b8-471c-b8ff-10a785620a3a",
   "metadata": {
    "editable": true,
    "slideshow": {
     "slide_type": ""
    },
    "tags": []
   },
   "source": [
    "To learn about any machine learning or artificial intelligence method, it's always useful to have an example dataset, and for these lessons we will use the [California Housing Dataset](https://www.spatial-statistics.com/pace_manuscripts/spletters_ms_dir/statistics_prob_lets/html/ms_sp_lets1.html), which can be loaded by the [Scikit-learn library](https://scikit-learn.org/stable/). This dataset contains observations about the makeup and locations of households across California based on the 1990 U.S. Census. "
   ]
  },
  {
   "cell_type": "code",
   "execution_count": null,
   "id": "a8c01214-8e09-4777-a540-e20d69d63d82",
   "metadata": {
    "editable": true,
    "slideshow": {
     "slide_type": ""
    },
    "tags": []
   },
   "outputs": [],
   "source": [
    "# First, we need to import scikit-learn:\n",
    "import sklearn as skl\n",
    "\n",
    "# Next, we use scikit-learn to download and return the CA housing dataset:\n",
    "ca_housing_dataset = skl.datasets.fetch_california_housing()\n",
    "\n",
    "# Extract the actual data rows and the feature names:\n",
    "ca_housing_featdata = ca_housing_dataset['data']\n",
    "ca_housing_featnames = ca_housing_dataset['feature_names']\n",
    "\n",
    "# We also extract the \"target\" data:\n",
    "ca_housing_targdata = ca_housing_dataset['target']\n",
    "ca_housing_targnames = ca_housing_dataset['target_names']\n",
    "\n",
    "# Print the description of the dataset:\n",
    "print(ca_housing_dataset['DESCR'])"
   ]
  },
  {
   "cell_type": "markdown",
   "id": "9808e017-e28f-44f9-95f8-c355bd5f2458",
   "metadata": {},
   "source": [
    "### Dataset Features"
   ]
  },
  {
   "cell_type": "markdown",
   "id": "8db3a4b3-7e93-4425-9749-02e6b2951c9f",
   "metadata": {},
   "source": [
    "The `data` from the CA housing dataset is represented as a NumPy array whose rows represent a census block and whose columns represent house-related features (dimensions) of each census block such as the average age of a block's houses and the average number of bedrooms of houses in each block. See the dataset description above for more information.\n",
    "\n",
    "A quick inspection confirms that there are the same number of feature names in the dataset as there are columns in the data matrix."
   ]
  },
  {
   "cell_type": "code",
   "execution_count": null,
   "id": "b1b1bda5-ec56-4196-8db7-f6cbace94a0f",
   "metadata": {},
   "outputs": [],
   "source": [
    "print(f'Feature names: {len(ca_housing_featnames)}')\n",
    "print(f'Data shape: {ca_housing_featdata.shape}')"
   ]
  },
  {
   "cell_type": "markdown",
   "id": "aa1420e8-32b5-4684-b10b-958892a60be7",
   "metadata": {},
   "source": [
    "We can use Pandas to organize the feature matrix and feature names into a `DataFrame`."
   ]
  },
  {
   "cell_type": "code",
   "execution_count": null,
   "id": "a37cfc8c-fad0-4c4a-8780-6819c382a5d8",
   "metadata": {},
   "outputs": [],
   "source": [
    "# To organize the dataset into a dataframe, we use Pandas:\n",
    "import pandas as pd\n",
    "\n",
    "feat_df = pd.DataFrame(dict(zip(ca_housing_featnames, ca_housing_featdata.T)))\n",
    "\n",
    "# Display the dataframe:\n",
    "feat_df"
   ]
  },
  {
   "cell_type": "markdown",
   "id": "69bcafe9-bf21-4019-ac07-e73446c0acaf",
   "metadata": {},
   "source": [
    "### Target Data"
   ]
  },
  {
   "cell_type": "markdown",
   "id": "37d3121d-0792-4068-8473-73e152b984ba",
   "metadata": {},
   "source": [
    "The CA housing dataset contains a \"target\" variable representing the median value of a house in each census block. Although we won't be using this target value in our methods (because we will be studying unsupervised methods in this lesson), we will want to look at it periodically to see if our unsupervised methods have deduced anything useful.\n",
    "\n",
    "We can keep track of the target data by making it into its own DataFrame."
   ]
  },
  {
   "cell_type": "code",
   "execution_count": null,
   "id": "44aa1e47-df9d-41d9-a0ba-d7aa779d850a",
   "metadata": {
    "editable": true,
    "slideshow": {
     "slide_type": ""
    },
    "tags": []
   },
   "outputs": [],
   "source": [
    "targ_df = pd.DataFrame({ca_housing_targnames[0]: ca_housing_targdata})\n",
    "\n",
    "# Display the dataframe:\n",
    "targ_df"
   ]
  },
  {
   "cell_type": "markdown",
   "id": "efe9bd36-ed00-4a2b-9ff0-de5c14edfff8",
   "metadata": {},
   "source": [
    "## Lesson Goals"
   ]
  },
  {
   "cell_type": "markdown",
   "id": "237e5ad2-4e8c-439f-8577-5c770c7b3500",
   "metadata": {
    "editable": true,
    "slideshow": {
     "slide_type": ""
    },
    "tags": []
   },
   "source": [
    "In this lesson we will deduce what we can about the California Housing dataset and attempt to make predictions about the dataset's target variables. Because this lesson is on unsupervised learning, we won't be using the target data to train any of the methods in this lesson, but we will see whether we can learn about the target variable nonetheless.\n",
    "\n",
    "By the end of this lesson, you should be comfortable with the following concepts:\n",
    "* We'll first look at the k-means algorithm for putting rows of the CA housing dataset into clusters based on their similarity.\n",
    "* Next, we'll use Principal Component Analysis (PCA) to visualize and examine the covariance of the dataset.\n",
    "* Finally, we'll look at some ways that these methods can fail by comparing them to Locally Linear Embedding (LLE)."
   ]
  },
  {
   "cell_type": "markdown",
   "id": "727f5142-2e86-4ab7-8d03-9867795a91ef",
   "metadata": {},
   "source": [
    "## Additional Resources"
   ]
  },
  {
   "cell_type": "markdown",
   "id": "f99ecc3c-c723-4411-889a-781a6290ad0a",
   "metadata": {},
   "source": [
    "* [Unsupervised Learning at Wikipedia](https://en.wikipedia.org/wiki/Unsupervised_learning)\n",
    "* [Unsupervised Learning algorithms in Scikit-Learn](https://scikit-learn.org/stable/unsupervised_learning.html)"
   ]
  }
 ],
 "metadata": {
  "kernelspec": {
   "display_name": "Python 3 (ipykernel)",
   "language": "python",
   "name": "python3"
  },
  "language_info": {
   "codemirror_mode": {
    "name": "ipython",
    "version": 3
   },
   "file_extension": ".py",
   "mimetype": "text/x-python",
   "name": "python",
   "nbconvert_exporter": "python",
   "pygments_lexer": "ipython3",
   "version": "3.12.11"
  }
 },
 "nbformat": 4,
 "nbformat_minor": 5
}
