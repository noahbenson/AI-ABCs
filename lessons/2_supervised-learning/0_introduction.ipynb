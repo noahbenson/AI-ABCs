{
 "cells": [
  {
   "cell_type": "markdown",
   "id": "efdf2db9-7fad-4cdf-bffd-9c116569b66f",
   "metadata": {},
   "source": [
    "# What is Supervised Learning?"
   ]
  },
  {
   "cell_type": "markdown",
   "id": "d0c2a17d-54f9-47f0-b566-6a7c58823fc3",
   "metadata": {},
   "source": [
    "A common use of data is to make a model. Typically when one makes a model, one uses some features of a dataset to predict other features. For example, one might make a model using the California Housing Dataset that predicts the median houshold income of an area from other factors like the median age and size of houses in the area. Sometimes one has a particular model form in mind and simply wants to fit its parameters (see [Lesson 3](/3_pytorch/0_introduction)); other times one doesn't especially care what the form of the model is. This lesson surveys a number of these latter methods. In both cases, supervised learning is usually called for.\n",
    "\n",
    "Put simply, **supervised learning methods learn to make predictions by examining correct examples of associations between their inputs and their outputs** (often with some amount of noise in the examples). This general method is also how humans learn: estimating the number of microliters of liquid in a tiny drop of water is a very difficult task, but biochemists who use micropipettes daily usually get very good at this task. This isn't because they consciously adopt a specific algorithm but because they are exposed to enough examples that they learn the association organically.\n",
    "\n",
    "While the AI/ML methods we will discuss in this section do not learn \"organically\" in the same way that animals do, they are applicable to a broad array of datasets and they are generally agnostic regarding the specific structure of a dataset or the underlying theories/models that give rise to it."
   ]
  },
  {
   "cell_type": "markdown",
   "id": "32e11986-1835-4e8f-bfa0-61f259acbdcf",
   "metadata": {},
   "source": [
    "## Lesson Goals"
   ]
  },
  {
   "cell_type": "markdown",
   "id": "93fd275a-9365-4e9a-a15d-a929685ee876",
   "metadata": {
    "editable": true,
    "slideshow": {
     "slide_type": ""
    },
    "tags": []
   },
   "source": [
    "In this lesson we will learn what we can about the California Housing dataset by training models using examples from the dataset. By the end of this lesson, you should be comfortable with the following concepts and methods.\n",
    "* We'll start by discussing a few core concepts: training, regression/classification, overfitting, and cross validation.\n",
    "* We'll then discuss [linear regression](https://en.wikipedia.org/wiki/Linear_regression), one of the most important and interpretable supervised learning methods.\n",
    "* Next, we'll discuss [random forests](https://en.wikipedia.org/wiki/Random_forest), a less interpretable but very robust and flexible method.\n",
    "* Finally, we'll look at [support vector machines](https://en.wikipedia.org/wiki/Support_vector_machine), one of the most well-studied methods in ML."
   ]
  },
  {
   "cell_type": "markdown",
   "id": "9afecb55-09f4-46e7-afe5-c929997e26d4",
   "metadata": {},
   "source": [
    "## Supervised Learning Concepts"
   ]
  },
  {
   "cell_type": "markdown",
   "id": "aa147eaa-7dd3-47a5-ae05-e64c9226c6d7",
   "metadata": {},
   "source": [
    "### Training and Evaluation"
   ]
  },
  {
   "cell_type": "markdown",
   "id": "b3dd7691-9f4e-4e28-a7f0-02cddf7adabc",
   "metadata": {},
   "source": [
    "Unlike the unsupervised learning methods we saw in the previous section, supervised learning methods need to be trained before they work. During training, the model is repeatedly updated to improve its ability to predict output values. Once it has been *trained*, it can be *evaluated* to predict the output for any valid input value, even values that it was not shown during training.\n",
    "\n",
    "In order to train and evaluate a method, we need a metric for measuring how accurate or inaccurate a method's predictions are. We call this metric a **loss function**. A loss function typically takes the form $l(y, \\hat{y})$ where $y$ is a measurement or observation in a dataset and $\\hat{y}$ is a prediction of the model. A higher loss indicates more error in the model's predictions&mdash;in fact, the goal of most supervised methods is to minimize a loss function (though different methods use different loss functions). There are many loss functions, but a very common example is the quadratic loss: $l(y, \\hat{y}) = (y - \\hat{y})^2$."
   ]
  },
  {
   "cell_type": "markdown",
   "id": "a0f9722d-f489-45b9-a280-07f95bf75fbe",
   "metadata": {},
   "source": [
    "### Regression versus Classification"
   ]
  },
  {
   "cell_type": "markdown",
   "id": "f3caa2ca-7f54-46c0-aa9f-2d63b38cb469",
   "metadata": {},
   "source": [
    "In the previous lesson on Unsupervised Learning, we saw how different unsupervised methods perform different kinds of operations; K-Means is a clustering algorithm whereas PCA is a dimensionality reduction algorithm. Supervised methods broadly fall into two categories: regression methods and classification methods.\n",
    "\n",
    "**Regression** is the prediction of a continuous value from a set of example data. Linear regression, which we will look at in the next section, is the most common type of regression, but many other methods such as Random Forests, perform similar operations.\n",
    "\n",
    "**Classification** is the prediction of a category or class for a given input. For example, convolutional neural networks that are capable of labeling the contents of an image are classification models.\n",
    "\n",
    "In many cases, regression methods and classification methods are solved by nearly identical algorithms. For example, a linear regression model can learn a linear relationship between input values (`x`) and output values (`y`) by examining many examples of `(x, y)` pairs. Once it has learned the relationship, it can predict a real number `y` that goes with an input `x`, even if it has never seen that input during training. Suppose, however, that instead of being given real numbers for `y`, every `y` value was either a `0` or a `1` (i.e., every `x` was either a member or not a member of a particular class). In this case, we could train the model to produce a real number but interpret the value as a `0` when `y < 0.5` and as a `1` otherwise. In fact, [logistic regression](https://en.wikipedia.org/wiki/Logistic_regression) is a variant of linear regression used for classification."
   ]
  },
  {
   "cell_type": "markdown",
   "id": "d26c4c53-74b4-4775-beff-fac7f8428083",
   "metadata": {},
   "source": [
    "### Overfitting and Cross Validation"
   ]
  },
  {
   "cell_type": "markdown",
   "id": "5964a4ec-34c9-4352-8269-8757f37b11cb",
   "metadata": {},
   "source": [
    "When one trains a supervised model using real data there is always the problem of [overfitting](https://en.wikipedia.org/wiki/Overfitting). Overfitting occurs when a model is trained so well on one dataset that it can't perform well on a similar dataset. This may sound unintuitive, so let's consider an example.\n",
    "\n",
    "Suppose one were given the following dataset and asked to construct a model of it."
   ]
  },
  {
   "cell_type": "code",
   "execution_count": null,
   "id": "9f266cf2-51aa-4ef3-9441-8591a729a0f5",
   "metadata": {},
   "outputs": [],
   "source": [
    "import numpy as np\n",
    "import matplotlib.pyplot as plt\n",
    "\n",
    "# Our dataset will consist of only 4 (x,y) points:\n",
    "x = [0,    0.20, 0.80, 2.05, 3]\n",
    "y = [0.16, 0.05, 1.18, 1.73, 2.88]\n",
    "\n",
    "# We can plot them to visualize them:\n",
    "plt.plot(x, y, 'ko')\n",
    "\n",
    "# We can also plot a reference line of x=y:\n",
    "plt.plot([0,3], [0,3], 'r:')\n",
    "\n",
    "plt.show()"
   ]
  },
  {
   "cell_type": "markdown",
   "id": "b290ae51-25e5-401c-b42b-52535da7b9d1",
   "metadata": {},
   "source": [
    "Clearly, these points approximately form a unity line with a small amount of noise in the precise measurements. If someone asked you to predict the correct value for `x = 1.5`, your best prediction would probably be very close to `1.5`.\n",
    "\n",
    "However, if we didn't plot or examine the points and simply wanted to find the most accurate model possible, one might try to fit a degree 4 polynomial to the points. Degree 4 polynomials are those of the form $c_4 x^4 + c_3 x^3 + c_2 x^2 + c_1 x + c_0 = 0$. We won't discuss the details of how one fits such a model in this course, but the `numpy` library includes a function, `polyfit` that will find the parameters $c_0$, $c_1$, $c_2$, $c_3$, and $c_4$ for us."
   ]
  },
  {
   "cell_type": "code",
   "execution_count": null,
   "id": "7d69ce52-25f1-4192-a041-53e60693c041",
   "metadata": {},
   "outputs": [],
   "source": [
    "# Find the polynomial coefficients:\n",
    "(c4, c3, c2, c1, c0) = np.polyfit(x, y, deg=4)\n",
    "\n",
    "# Make a function that calculates the polynomial prediction:\n",
    "def f(x):\n",
    "    return c4*x**4 + c3*x**3 + c2*x**2 + c1*x + c0\n",
    "\n",
    "# Let's replot the data with this function!\n",
    "plt.plot(x, y, 'ko')\n",
    "\n",
    "# Plot the polynomial:\n",
    "x_tmp = np.linspace(0, 3, 100)\n",
    "y_tmp = f(x_tmp)\n",
    "plt.plot(x_tmp, y_tmp, 'c:')\n",
    "\n",
    "plt.show()"
   ]
  },
  {
   "cell_type": "markdown",
   "id": "92b25b0b-455f-4fd8-bdce-330f4007fde7",
   "metadata": {},
   "source": [
    "This may look like a good estimate, in that the model prediction exactly predicts each of the input points. However, when asked what the predicted value for 2.5 is, the result is not all that close to 2.5:"
   ]
  },
  {
   "cell_type": "code",
   "execution_count": null,
   "id": "340977e6-9466-4098-9c0f-f5f19c0fced6",
   "metadata": {},
   "outputs": [],
   "source": [
    "print(f(2.5))"
   ]
  },
  {
   "cell_type": "markdown",
   "id": "824743af-6761-4e4f-aa3e-ade4bac2d6f9",
   "metadata": {},
   "source": [
    "In this example, the 4th-degree polynomial model is highly accurate when predicting the *training* data&mdash;i.e., any of the data used to train the model. However, when predicting data that is not part of the traning data, the model will perform poorly. This phenomenon indicates that the model is **overfit**.\n",
    "\n",
    "An even more egregious example can be found by increasing the number of data points and the degree of the model. Here's an example using 10 data points that are approximately on the line of unity, fit using a degree 9 polynomial."
   ]
  },
  {
   "cell_type": "code",
   "execution_count": null,
   "id": "2407a213-445a-4805-8423-831a18235ddb",
   "metadata": {},
   "outputs": [],
   "source": [
    "# The x values are just 0–9:\n",
    "x = np.arange(10)\n",
    "# The y-values are the same with a little normally-distributed noise:\n",
    "y = x + np.random.randn(10)\n",
    "\n",
    "# Fit the points:\n",
    "coefficients = np.polyfit(x, y, deg=9)\n",
    "\n",
    "# Make a function that calculates the polynomial prediction:\n",
    "def f(x):\n",
    "    return np.sum(\n",
    "        [c * x**k for (k,c) in enumerate(reversed(coefficients))],\n",
    "        axis=0)\n",
    "\n",
    "# Plot the data:\n",
    "plt.plot(x, y, 'k.')\n",
    "x_tmp = np.linspace(0, 9, 500)\n",
    "plt.plot([0,9], [0,9], 'r:')\n",
    "plt.plot(x_tmp, f(x_tmp), 'c:')\n",
    "plt.ylim([-5,15])\n",
    "\n",
    "plt.show()"
   ]
  },
  {
   "cell_type": "markdown",
   "id": "5718d6a6-fa88-4abf-b51f-2d1f9cf84445",
   "metadata": {},
   "source": [
    "Clearly the above model is highly **overfit**: it is very unlikely that the true process that generated these data points varies as much between the measured points as the cyan curve does in this plot. But the cyan curve goes through every point in the dataset exactly. If all we cared about was minimizing the error of all of our measurements relative to our model, then the cyan is objectively better. However, if we care about how well our model would predict a new measurement not already in the dataset, the cyan curve will perform poorly.\n",
    "\n",
    "The problem of how to avoid overfitting is substantial, and many different kinds of strategies exist. However, the most useful and common strategy is appropriate for most model-fitting scenarios: **cross validation**. Using cross validation is straightforward; the basic idea involves three steps:\n",
    "1. Split the dataset into at least two subdatasets, the *training* data and the *test* data; no data point should appear in both datasets (even if the dataset contains duplicate identical data points).\n",
    "2. Train the model using the training data.\n",
    "3. Evaluate the model's accuracy using the test data.\n",
    "\n",
    "This strategy ensures that when you test your model, you don't test it on data that it might be overfit to. For example, in the previous cell we could have removed three of the points at random (test data), fit the polynomial or the line to the remaining seven points (training data), then evaluated how well the polynomial or line predicted the three test points. Most likely, the line would fit the test points quite well while the polynomial will have been overfit to the training data and would fit the three test points quite poorly.\n",
    "\n",
    "Cross validation has many variants that all use this basic strategy. For example, sometimes a dataset is split into $k$ distinct subdatasets then each of the subdatasets is used as a test dataset for a model trained using all the remaining subdatasets. Typically, one makes a test dataset that is much smaller than the training dataset because it takes a lot of data to train most models, but relatively little data to evaluate one. "
   ]
  },
  {
   "cell_type": "markdown",
   "id": "239ee7b9-497a-4f55-ab48-7769e36cffc5",
   "metadata": {},
   "source": [
    "### Parameters and Hyperparameters"
   ]
  },
  {
   "cell_type": "markdown",
   "id": "450d0f65-ba3b-4dcd-a5ca-ee03d52d3c28",
   "metadata": {},
   "source": [
    "Models have **parameters**, which are configurable variables that allow the model to take different forms. When we fit a model to data, what we actually do is change the parameters such that the model's form best explains the data. Parameters are different than the model's **inputs**, which are the values used to train and evaluate the model. In the example above in which we fit a 4th degree polynomial to a set of points using `numpy.polyfit`, the values $c_0$, $c_1$, $c_2$, $c_3$, and $c_4$ are the *parameters* of the model, which we fit from the examples of `(x,y)` points. Those points make up the model's *inputs* (`x`) and *outputs* (`y`). Given a different set of points, the `numpy.polyfit` function would have returned a different set of model parameters that would represent a different form of the model (a polynomial with a different shape).\n",
    "\n",
    "Models with more parameters are generally more complex and thus more able to model a wider variety of data. For example, the model $f(x; m) =  m \\, x$, where $x$ is the model's input and $m$ is a single parameter, is able to accurately model a lot more kinds of data (any line that goes through the origin) than the simpler model $g(x; m) = m$, which can model only horizontal lines.\n",
    "\n",
    "Additionally, models have **hyperparameters**. A hyperparameter is a value that does not appear in the formal model but that was used in its training. For example, some models are trained by viewing the training samples in a sequence and updating the model parameters after each sample. For such a model, the order in which the samples are shown to the model is a *hyperparameter*. It may have an effect on the final model parameters, but it isn't part of the model itself. As we go through the methods in this section, we will discuss the hyperparameters involved in training them alongside the details of the methods themselves. When a method has many hyperparameters, it can be important to use additional layers of cross validation, which we will discuss in [Lesson 3](/3_pytorch/0_introduction)."
   ]
  },
  {
   "cell_type": "markdown",
   "id": "1584a93a-5349-4f87-934c-9b217f97fcb6",
   "metadata": {},
   "source": [
    "### The Bias / Variance Tradeoff"
   ]
  },
  {
   "cell_type": "markdown",
   "id": "f0096482-2ead-47a0-8e4f-15b66b1c7744",
   "metadata": {},
   "source": [
    "In this section, we consider a variety of supervised learning *models*, each of which has a set of internal *parameters*. The models are each trained using a dataset containing examples of model *inputs* paired with correct *outputs*, both of which can contain noise. When we train a model, the noise inherent in the dataset contributes to the **irreducible error**: noise that cannot be explained because it is inherently noise and not signal. If we train a model using any particular dataset, which in the real world will always contain noise, how well the model performs will in part depend on the model's complexity. If the model is very simple, then, after training, it is more likely to exhibit **bias**, meaning that it adheres to its assumptions rather than the data on which it was trained. Such a model is underfit. On the other hand, a complex model is likely to exhibit **variance**, which has a slightly different meaning in this context than that of \"the variance of a dataset\". In this context, the variance refers to a complex model's ability to fit data so well that it even fits the noise. Such a model is overfit. In our earlier example, the 4th degree polynomial perfectly fit the noise in the measurements and thus was exhibiting high variance.\n",
    "\n",
    "In general, there is a tradeoff between the bias of a model and its variance. For a given dataset, a very simple model like the model $f(x; m) = m$ we saw earlier will exhibit bias. If we make the model slightly more complex, such as $h(x; m, b) = m \\, x + b$, and fit that model to the same dataset, the model becomes slightly more likely to exhibit variance. If the dataset actually measured a constant value with respect to $x$, just with some noise in each measurement (i.e., the model $f$ is closer to the truth in this case), then it is likely that the model $h$ will find a small non-zero parameter for $m$ due to noise.\n",
    "\n",
    "The more complex the model, the mode likely it is to exhibit variance, but the appropriate model complexity is different for every problem and often must be determined experimentally by fitting several models of different complexity. In such cases, starting with the simplest plausible model and progressively testing more complex models using cross validation is a good general approach."
   ]
  },
  {
   "cell_type": "markdown",
   "id": "f5fed3e3-20e7-4a20-941f-57f4b3b2238c",
   "metadata": {},
   "source": [
    "## Additional Resources"
   ]
  },
  {
   "cell_type": "markdown",
   "id": "e3c2daa7-7bfb-4cdd-baa3-ce46c850df0f",
   "metadata": {},
   "source": [
    "* [Supervised Learning at Wikipedia](https://en.wikipedia.org/wiki/Supervised_learning)\n",
    "* [Supervised Learning algorithms in Scikit-Learn](https://scikit-learn.org/stable/supervised_learning.html)\n",
    "* [The Bias/Variance Tradeoff](https://en.wikipedia.org/wiki/Bias%E2%80%93variance_tradeoff)"
   ]
  }
 ],
 "metadata": {
  "kernelspec": {
   "display_name": "Python 3 (ipykernel)",
   "language": "python",
   "name": "python3"
  },
  "language_info": {
   "codemirror_mode": {
    "name": "ipython",
    "version": 3
   },
   "file_extension": ".py",
   "mimetype": "text/x-python",
   "name": "python",
   "nbconvert_exporter": "python",
   "pygments_lexer": "ipython3",
   "version": "3.12.11"
  }
 },
 "nbformat": 4,
 "nbformat_minor": 5
}
