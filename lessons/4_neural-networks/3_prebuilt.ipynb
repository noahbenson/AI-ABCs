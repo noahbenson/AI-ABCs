{
 "cells": [
  {
   "cell_type": "markdown",
   "id": "ac834d57-cdc9-46ea-878d-8d1cfecce3ff",
   "metadata": {},
   "source": [
    "# Prebuilt Neural Network Models"
   ]
  },
  {
   "cell_type": "markdown",
   "id": "c2f843be-6098-4840-9b5a-c5f84af59095",
   "metadata": {},
   "source": [
    "In the [previous](1_feedforward-networks) [two sections](2_CNNs) we saw how to build neural networks from scratch in PyTorch. Although these networks that we built were surprisingly capable of modeling handwritten digits, they have many drawbacks, including the amount of work required to understand what they are doing and how they work. In general, neural networks have a reputation as being \"black boxes,\" meaning that they are hard to understand&mdash;they are a black box that performs computations but that don't let us see how the computations are performed inside.\n",
    "\n",
    "In fact, the structure of CNNs and questions like \"why does a certain arrangement of layers in a CNN yield especially good results?\" are very hard to answer without a much deeper analysis of these techniques than this course will cover. However, there are many researchers who study neural networks specifically and who have developed network structures that excel at many kinds of problems. Many of the best model structures are not only available as existing models from PyTorch but also pre-trained on very large datasets. (Pre-trained in this case usually means that they have already been trained to recognize the content of natural images, but see the subsection on *Model Generalizability* below for why this matters.)\n",
    "\n",
    "To show how these models work, we'll want a single example image that we can pass to each model. The image doesn't necessarily need to be classified well or correctly, but it should show how each model works, generally. We'll use a cropped version of the painting Christina's World by Andrew Wyeth that has been rescaled to be $224 \\times 224$ pixels; $224 \\times 224$ is a size used by many image recognition models."
   ]
  },
  {
   "cell_type": "code",
   "execution_count": null,
   "id": "4fbdaf5c-8891-492d-b68e-b64b3501f436",
   "metadata": {},
   "outputs": [],
   "source": [
    "import torch\n",
    "import matplotlib.pyplot as plt\n",
    "\n",
    "# Read in the image as a NumPy array:\n",
    "image = plt.imread('christinas-world_cropped.png')\n",
    "\n",
    "# Make a plot of the image so that we can see it:\n",
    "plt.imshow(image)\n",
    "plt.axis('off')\n",
    "\n",
    "# Convert it into a tensor:\n",
    "image = torch.from_numpy(image)\n",
    "# Transpose the channels to the first dimension and add a singleton dimension\n",
    "# as the batch size so that it's ready for input to a PyTorch model.\n",
    "image = torch.permute(image, (2,0,1))[None, ...]\n",
    "\n",
    "plt.show()"
   ]
  },
  {
   "cell_type": "markdown",
   "id": "0dc49864-c7e9-43fe-9026-44c5ac4bec28",
   "metadata": {},
   "source": [
    "## Prebuilt Versus Pretrained Models"
   ]
  },
  {
   "cell_type": "markdown",
   "id": "a8fa27fa-aa23-4a14-bd57-02882b89bc61",
   "metadata": {},
   "source": [
    "There is a subtle difference between using models that are prebuilt and models that are \"pretrained\". Let's start by defining these terms:\n",
    "* A **prebuilt model** is a model that uses a \"prebuilt model architecture,\" which is just a model architecture that was designed by someone else. (\"Model architecture\" in this case means the layers in the model and the order of computations.) All of the model architectures discussed in the sections below are prebuilt model architectures.\n",
    "* A **pretrained model** is a model that is prebuilt and that has also already been trained to solve a particular problem. For the CNNs discussed below this is typically an object recognition problem."
   ]
  },
  {
   "cell_type": "markdown",
   "id": "18cf5150-8022-41a0-adf1-1d0d95569a73",
   "metadata": {},
   "source": [
    "### Model Generalizability: Why Do Pre-trained Models Matter?"
   ]
  },
  {
   "cell_type": "markdown",
   "id": "c0f594c2-3500-4edc-a695-cfdc57b43dcb",
   "metadata": {},
   "source": [
    "Most image-based problems that one has to solve in science are not object recognition problems, so why would one want to use a pre-trained model? This is a good question, and an important thing to keep in mind is that CNNs, especially the CNNs discussed below, are large complex models that encode in their parameters a lot of implicit knowledge about their training dataset when they are trained. This means that CNNs that have been trained to recognize the contents of a natural image may have only been trained for that specific task, but they have learned a lot implicit information about the structure of natural images in the process&mdash;their parameters encode filters generally useful for understanding what's in an image. While this training isn't necessarily useful for a different problem, lots of problems can benefit from that internal understanding when they start training.\n",
    "\n",
    "To be clear, there's nothing that stops one from doing a little bit of training on a model then stopping, then much later doing some more training. The models you construct and publish, the models others publish, and all of the models described below, can be used as starting-points in the training of new problems with new datasets."
   ]
  },
  {
   "cell_type": "markdown",
   "id": "93e64d98-1446-43fb-99f8-22fc3d301ef8",
   "metadata": {},
   "source": [
    "## ResNet: Natural Image Classification"
   ]
  },
  {
   "cell_type": "markdown",
   "id": "77ab7f18-4d0d-4490-97dd-d73b0583c748",
   "metadata": {},
   "source": [
    "One of the most well-known models that performs classificaion is a `ResNet`, which is short for residual network. The term \"residual\" here refers to the fact that the design of the ResNet allows the model to learn the difference (or residual) between the input image and the output image at each step of the computation. The purpose of this subtle difference in design isn't to create a more expressive model but rather to enable to model to learn more quickly during training.\n",
    "\n",
    "ResNets, like the models below, come in a number of complexities such as `resnet18`, `resnet34`, and `resnet50`. Each of these models is trained to accept identical input and produce identical output, but the higher the number following the name, the more parameters there are internally. (For example, `resnet18` has 11,689,512 parameters while `resnet34` has 21,797,672 parameters.) More parameters means that the internal representations employed by the model can be more complex, theoretically allowing it to solve more difficult problems.\n",
    "\n",
    "ResNets can be loaded using the `torch.hub` interface."
   ]
  },
  {
   "cell_type": "code",
   "execution_count": 2,
   "id": "3cf6a365-49fd-47ff-bad6-929eb48d8ddc",
   "metadata": {},
   "outputs": [
    {
     "name": "stderr",
     "output_type": "stream",
     "text": [
      "Using cache found in /home/jovyan/.cache/torch/hub/pytorch_vision_v0.13.0\n"
     ]
    }
   ],
   "source": [
    "import torch\n",
    "import torchvision\n",
    "\n",
    "resnet = torch.hub.load(\n",
    "    'pytorch/vision:v0.13.0', 'resnet18', \n",
    "    weights='IMAGENET1K_V1')"
   ]
  },
  {
   "cell_type": "markdown",
   "id": "48110631-3752-4d35-8a5f-bb7492b271c3",
   "metadata": {},
   "source": [
    "ResNets are image classification CNNs much like the CNNs we created in the [previous section](2_CNNs) but quite a bit more complex. They take, as input, a tensor whose dimensions are `(N, 3, H, W)` where `N` is the batch size; 3 is for the red, green, and blue image channels; `H` is the image height; and `W` is the image width. (`H` and `W` are pixel counts.) As output, they produce a bank of channels, each corresponding to a particular image category. Pretrained ResNets from PyTorch use the set of 1000 categories defined by the [ImageNet dataset](https://www.image-net.org/). We can find the predicted category by finding the index of the maximum value in tensor."
   ]
  },
  {
   "cell_type": "code",
   "execution_count": null,
   "id": "9973b561-a58e-431f-899b-7384408fb659",
   "metadata": {},
   "outputs": [],
   "source": [
    "output = resnet(image)\n",
    "torch.argmax(output[0])"
   ]
  },
  {
   "cell_type": "markdown",
   "id": "9cf318f7-a2d0-44ec-9f06-fca900f4eebc",
   "metadata": {},
   "source": [
    "If you download the ImageNet dataset and look at its category list, you will find that category 463 corresponds to \"bucket, pail\" which is clearly not what our image represents. This shouldn't be surprising, however&mdash;this painting is unlike anything that is included in ImageNet and is just intended to show how the model works. If one wanted to use a ResNet in a model that predicted a different number of output categories, one could easily map the 1000 outputs of the resnet to a different number of outputs using a `torch.nn.Linear`. For example, the following model uses a ResNet to categorize a 3-channel image into one of only 3 categories."
   ]
  },
  {
   "cell_type": "code",
   "execution_count": null,
   "id": "56c25a2b-0910-496e-9bb9-c7eac867fcff",
   "metadata": {},
   "outputs": [],
   "source": [
    "import torch\n",
    "\n",
    "class ResNet3Categories(torch.nn.Module):\n",
    "    def __init__(self, resnet='resnet18', weights='IMAGENET1K_V1'):\n",
    "        self.resnet = torch.hub.load(\n",
    "            'pytorch/vision', resnet,\n",
    "            weights=weights)\n",
    "        self.reduce_outputs = torch.nn.Linear(1000, 3)\n",
    "    def forward(self, inputs):\n",
    "        out = self.resnet(inputs)\n",
    "        out = self.reduce_outputs(out)\n",
    "        return out"
   ]
  },
  {
   "cell_type": "markdown",
   "id": "b5fb9328-82c4-428e-9053-ed94247543d8",
   "metadata": {},
   "source": [
    "## DenseNet: A Variant of ResNet"
   ]
  },
  {
   "cell_type": "markdown",
   "id": "fdc7a813-f1c0-414d-8e6c-12ee2439f07e",
   "metadata": {},
   "source": [
    "DenseNet is a model that is similar to ResNet but with fewer parameters. Internally, a `DenseNet121` contains 7,978,856 parameters, substantially fewer than the simplest ResNet (`ResNet18`). However, DenseNet has substantially more complex reuse of its hidden (internal) features, and this can sometimes result in longer training times. "
   ]
  },
  {
   "cell_type": "code",
   "execution_count": null,
   "id": "86d79537-939e-452d-b399-7884da14f47e",
   "metadata": {},
   "outputs": [],
   "source": [
    "model = torch.hub.load(\n",
    "    'pytorch/vision', 'densenet121',\n",
    "    pretrained=True)"
   ]
  },
  {
   "cell_type": "code",
   "execution_count": null,
   "id": "ddf52699-d6fa-4ef1-8c2f-db342db65fdf",
   "metadata": {},
   "outputs": [],
   "source": [
    "output = model(image)\n",
    "torch.argmax(output[0])"
   ]
  },
  {
   "cell_type": "markdown",
   "id": "bc89af48-e0f5-46c2-ba5f-4145f6088183",
   "metadata": {},
   "source": [
    "Notice that DenseNet predicts the same \"bucket, pail\" category that ResNet predicts! Both models are high-performing models that were trained on the same dataset in this case, so this shouldn't be all that surprising either. Both models are likely to have similar interpretations of images and biases."
   ]
  },
  {
   "cell_type": "markdown",
   "id": "7180166f-628f-4040-a1da-2149ec70473a",
   "metadata": {},
   "source": [
    "## Segmentation Networks"
   ]
  },
  {
   "cell_type": "markdown",
   "id": "11f45ff0-6793-468c-b934-0c998d9e5dc5",
   "metadata": {},
   "source": [
    "All of the models described above are models that perform classification&mdash;that is, determining the class or category that is represented in an image. Segmentation networks determine which pixels in an image are part of a particular object. Segmentation networks are extremely useful in a variety of image-based disciplines such as MRI and astronomy, where, for example, figuring out which parts of an image belong to a particular anatomical structure can be very time-consuming.\n",
    "\n",
    "One common segmentation CNN is a [**U-Net**](https://en.wikipedia.org/wiki/U-Net). Unfortunately there are no official releases of U-Nets on `torch.hub` as of when this lesson was written. The original paper can be found at [DOI: 10.48550/arXiv.1505.04597](https://doi.org/10.48550/arXiv.1505.04597), and numerous implementations can be found online, but these have not necessarily been vetted by anyone."
   ]
  }
 ],
 "metadata": {
  "kernelspec": {
   "display_name": "Python 3 (ipykernel)",
   "language": "python",
   "name": "python3"
  },
  "language_info": {
   "codemirror_mode": {
    "name": "ipython",
    "version": 3
   },
   "file_extension": ".py",
   "mimetype": "text/x-python",
   "name": "python",
   "nbconvert_exporter": "python",
   "pygments_lexer": "ipython3",
   "version": "3.12.11"
  }
 },
 "nbformat": 4,
 "nbformat_minor": 5
}
