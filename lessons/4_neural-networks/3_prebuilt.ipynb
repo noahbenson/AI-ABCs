{
 "cells": [
  {
   "cell_type": "markdown",
   "id": "ac834d57-cdc9-46ea-878d-8d1cfecce3ff",
   "metadata": {},
   "source": [
    "# Prebuilt Neural Network Models"
   ]
  },
  {
   "cell_type": "code",
   "execution_count": null,
   "id": "297a80c0-4378-4454-bdea-ae1c75570ded",
   "metadata": {},
   "outputs": [],
   "source": []
  }
 ],
 "metadata": {
  "kernelspec": {
   "display_name": "Python 3 (ipykernel)",
   "language": "python",
   "name": "python3"
  },
  "language_info": {
   "codemirror_mode": {
    "name": "ipython",
    "version": 3
   },
   "file_extension": ".py",
   "mimetype": "text/x-python",
   "name": "python",
   "nbconvert_exporter": "python",
   "pygments_lexer": "ipython3",
   "version": "3.12.11"
  }
 },
 "nbformat": 4,
 "nbformat_minor": 5
}
