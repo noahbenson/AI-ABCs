{
 "cells": [
  {
   "cell_type": "markdown",
   "id": "29f730e8-22ee-4269-8187-a1261825def2",
   "metadata": {},
   "source": [
    "# Convolutional Neural Networks"
   ]
  },
  {
   "cell_type": "markdown",
   "id": "c80f335f-ce9a-4cd0-ac45-39ed4ac03755",
   "metadata": {},
   "source": [
    "Convolutional Neural Networks (CNNs) are incredibly powerful AI/ML tools whose design resembles that of the human visual system. CNNs have demonstrated an almost uncanny ability to **classify** natural images (i.e., images of the physical world as opposed to computer generated images such as an image of black and white stripes) and to **segment** distinct objects from the rest of an image. These are not the only tasks that CNNs are capable of performing, but these tasks are useful for understanding the behavior of CNNs because they are the tasks on which most other methods fail but CNNs excel.\n",
    "\n",
    "In terms of the engineering, CNNs are highly similar to other neural network models, and we will see in this section that the definition and training of a CNN it is largely identical to the definition and training the neural network model in the [previous section](1_feedforward-networks), with the exception of a few computational layers in the model itself.\n",
    "\n",
    "Before we define our model and start training, however, let's discuss what exactly a CNN is, and why CNNs are different than the feedforward networks we saw previously."
   ]
  },
  {
   "cell_type": "markdown",
   "id": "fc9ada13-c901-4fb9-b98c-007b5df05357",
   "metadata": {},
   "source": [
    "## What are convolutional neural networks?"
   ]
  },
  {
   "cell_type": "markdown",
   "id": "9189af37-4e62-4458-9adf-8177880a29bb",
   "metadata": {},
   "source": [
    "Fundamentally, CNNs are just feedforward neural networks (FNNs) that have a particular kind of connectivity structure between layers that both makes them more efficient than a traditional FNN and gives them substantial power at classification and segmentation tasks. This structure was in fact inspired by the structure of the human visual system. In theory, one could build a traditional FNN that learned to perform the same computations as a CNN; however, the FNN would need many many more parameters to represent the same computation as a CNN. This is because CNNs can exploit an operation called **convolution**, which can be performed relatively quickly over an entire image."
   ]
  },
  {
   "cell_type": "markdown",
   "id": "cf804ca5-afe5-402d-88d8-cfa6f84fbe0c",
   "metadata": {},
   "source": [
    "### What is convolution?"
   ]
  },
  {
   "cell_type": "markdown",
   "id": "97c3a6ed-41b5-4aba-ad16-96629e113409",
   "metadata": {},
   "source": [
    "Image convolution is an operation in which two images slide past each other and their overlap (technically, the sum of their dot products) are calculated at every overlapping position. Convolution typically uses an *input image* and a *kernel* (both of which are in fact images). The kernel is usually but not always smaller than the input iamge, and we consider the kernel to be the image that slides along the input.\n",
    "\n",
    "The following animaged GIF demonstrates how convolution works conceptually.\n",
    "\n",
    "![Animated GIF of the image convolution operator](../_static/images/convolution-2D.gif \"Convolution Animation\")\n",
    "<p style=\"font-size: 8pt\">Image credit: Michael Plotke, CC, via Wikimedia Commons</p>"
   ]
  },
  {
   "cell_type": "markdown",
   "id": "f099ddf5-4276-4864-87b1-d6efb8e70c8b",
   "metadata": {},
   "source": [
    "The image above shows a 2D image convolution for a 2D image with only 1 channel (typically a grayscale image). However, convolution can be generalized to all kinds of objects:\n",
    "* The convolution of two vectors is similar to the convolution of images, but there's only one dimension for the vectors to slide along.\n",
    "* The convolution of two continuous functions $f(t)$ and $g(t)$ can be defined by integration: $(f \\circledast g)(t):=\\int_{-\\infty}^{\\infty} f(\\tau) g(t-\\tau) d \\tau$. This can also be generalized to any number of dimensions.\n",
    "* Convolution can also be defined over objects with structures unrelated to images, such as graphs (see, for example [graph neural networks](https://en.wikipedia.org/wiki/Graph_neural_network)).\n",
    "\n",
    "\n",
    "Convolution can be seen as a way of applying filters to an image. For example, the following image kernels can be applied to an input image to produce variants of the original image (filtered images)."
   ]
  },
  {
   "cell_type": "markdown",
   "id": "a366f57c-36b3-4fb7-80e7-9621da5df4b7",
   "metadata": {},
   "source": [
    "![Comparison of convolution kernels](../_static/images/convolution-kernels.svg \"Convolution Kernel Comparison\")"
   ]
  },
  {
   "cell_type": "markdown",
   "id": "756cd604-25ce-443a-914b-242549d47634",
   "metadata": {},
   "source": [
    "The basic idea behind a CNN is that it is a FNN whose weights are stored as image kernels instead of as matrices that express the connectivity of every input dimension to every hidden or output dimension. In a CNN, the kernel contains weights that are applied to each location in the input image to produce the output image. This allows the CNN to efficiently apply a small filter to every location in an image. In the next layer of the network, a new kernel can be applied to the output of the previous layer, allowing more complex filters to form.\n",
    "\n",
    "Importantly, the convolution of images with multiple channels is also straightforward to define. With multiple channels, we can imagine that the input image in the above animation has multiple channels, such as 3 image channels for red, green, and blue. In such a case, we could define our kernel to also have 3 image channels, and our dot products could be calculated over all three image channels, with the kernel sliding only over the rows and columns. This would produce a single output layer, so to produce multiple output layers, we would need multiple kernels, each of which has the same number of channels as the input image. This means that output image channels are formed of combinations of the data across channels in the input, but each pixel in the output image aggregates information from a localized section of the input image.\n",
    "\n",
    "In the above examples, all of the kernel images are small $3 \\times 3$ images. A kernel needn't be this small, but in convolutional neural networks, most of the kernels tend to be $7 \\times 7$ kernels or smaller. Additionally, all of the kernels in the above examples were applied to every pixel of the input image. Sometimes, CNNs will skip over every other pixel as a way to downsample the input image into a smaller image. This operation is often accompanied by the addition of channels to the output image&mdash;i.e., a convolution will convert an input whose shape is `(N, C, H, W)` into an output whose shape is `(N, C_new, H_new, W_new)` where `H_new < H` and `W_new < W` (for image height `H` and width `W`) but `C_new > C` (channels)."
   ]
  },
  {
   "cell_type": "markdown",
   "id": "ae517a61-3021-4045-a9ec-98aea0d88690",
   "metadata": {},
   "source": [
    "## Building a CNN for the MNIST Dataset"
   ]
  },
  {
   "cell_type": "markdown",
   "id": "a38e1cac-abc2-4be9-a0d4-e0dadf5d958d",
   "metadata": {},
   "source": [
    "Let's go ahead and build a CNN, based on our FNN from the [previous section](1_feedforward-networks), to predict digits from the MNIST dataset. We can start by loading in the MNIST dataset."
   ]
  },
  {
   "cell_type": "code",
   "execution_count": null,
   "id": "f7ca4965-0f7e-4487-874c-6b1708c5dbd9",
   "metadata": {},
   "outputs": [],
   "source": [
    "from torchvision.datasets import MNIST\n",
    "from torchvision.transforms import ToTensor\n",
    "from pathlib import Path\n",
    "\n",
    "train_dset = MNIST(Path.home(), download=True, train=True, transform=ToTensor())\n",
    "test_dset = MNIST(Path.home(), download=True, train=False, transform=ToTensor())"
   ]
  },
  {
   "cell_type": "markdown",
   "id": "4b1daec7-ac4e-4047-b837-15f4ff8cc792",
   "metadata": {},
   "source": [
    "Once we've loaded in the dataset, we can go ahead and define our CNN. The CNN is similar to the FNN code, but we will use slightly different layers in our CNN. We'll add convolutional layers using PyTorch's `Conv2d` class, which represents a 2D convolution applied to an image. Like other PyTorch model layers, it expects the inuput to begin with the dimensions `(N,C)` (batches and channels), and will generally just work if we respect this convention."
   ]
  },
  {
   "cell_type": "code",
   "execution_count": null,
   "id": "9f17bfee-782c-4eb4-9c68-961b9547be8b",
   "metadata": {},
   "outputs": [],
   "source": [
    "import torch\n",
    "\n",
    "class CNNModel(torch.nn.Module):\n",
    "    \"A simple convolutional neural network model for the MNIST dataset.\"\n",
    "    def __init__(self,\n",
    "                 input_channels=1,\n",
    "                 output_channels=10):\n",
    "        super().__init__()\n",
    "        # We'll start with a convolution of the input followed by a ReLU.\n",
    "        # Note that this convolution will cut 1 pixel off of each border\n",
    "        # because by default PyTorch's image convolution throws away pixels\n",
    "        # where some of the kernel hangs off of the edge of the image.\n",
    "        self.conv1 = torch.nn.Conv2d(\n",
    "            in_channels=input_channels,\n",
    "            # We won't change the number of output channels here:\n",
    "            out_channels=input_channels,\n",
    "            # We want a kernel that is 3x3 pixels:\n",
    "            kernel_size=3)\n",
    "        self.relu1 = torch.nn.ReLU()\n",
    "        # After these operators, our image will be 26x26 instead of 28x28.\n",
    "        # Next, we'll do another convolution, but one that downsamples the\n",
    "        # image using the stride option, which tells the convolution how\n",
    "        # many pixels to skip over when it performes the convolution.\n",
    "        self.conv2 = torch.nn.Conv2d(\n",
    "            in_channels=input_channels,\n",
    "            # We'll increase the number of channels in this convolution:\n",
    "            out_channels=(2 * input_channels),\n",
    "            # Our kernel will be 7x7 this time:\n",
    "            kernel_size=7,\n",
    "            stride=2)\n",
    "        self.relu2 = torch.nn.ReLU()\n",
    "        # We'll repeat this downsampling operation a couple of times:\n",
    "        self.conv3 = torch.nn.Conv2d(\n",
    "            in_channels=(2 * input_channels),\n",
    "            out_channels=(4 * input_channels),\n",
    "            kernel_size=7,\n",
    "            stride=2)\n",
    "        self.relu3 = torch.nn.ReLU()\n",
    "        # After downsampling twice, we should have 4 input channels but it's\n",
    "        # a bit unclear how big the images should be in terms of rows and cols\n",
    "        # because of our downsampling and border removal. We could count the\n",
    "        # correct number of channels, rows, and columns at this point, but\n",
    "        # there's also a special kind of fully-connected linear neural network\n",
    "        # layer that will figure out the number of inputs for us:\n",
    "        self.final = torch.nn.LazyLinear(out_features=10)\n",
    "    def forward(self, inputs):\n",
    "        # Notice that for convolutional neural networks, we don't reshape or\n",
    "        # flatten our inputs; the convolution layers need the image to still\n",
    "        # be organized as an image.\n",
    "        out1 = self.conv1(inputs)\n",
    "        out1 = self.relu1(out1)\n",
    "        out2 = self.conv2(out1)\n",
    "        out2 = self.relu2(out2)\n",
    "        out3 = self.conv3(out2)\n",
    "        out3 = self.relu3(out3)\n",
    "        output_flat_shape = (inputs.shape[0], 1, -1)\n",
    "        output = self.final(torch.reshape(out3, output_flat_shape))\n",
    "        return output[:, 0]\n",
    "    def predict(self, inputs):\n",
    "        \"\"\"Returns the integer digit prediction for the given input tensor.\n",
    "\n",
    "        This model's outputs are a 10-element tensor in which each of the 10\n",
    "        dimensions represents one digit; the dimension with the highest value\n",
    "        indicates the model's predicted digit. This function runs the model on\n",
    "        an input and translates the model's output into a digit.\n",
    "        \"\"\"\n",
    "        outputs = model(inputs)\n",
    "        # Keep in mind there will be a batch dimension for inputs and outputs.\n",
    "        digits = torch.argmax(outputs, dim=-1)\n",
    "        return digits.to(torch.uint8)\n",
    "\n",
    "model = CNNModel()\n",
    "model"
   ]
  },
  {
   "cell_type": "markdown",
   "id": "1414410d-5310-4200-9501-1b278a728133",
   "metadata": {},
   "source": [
    "## Training our first CNN"
   ]
  },
  {
   "cell_type": "markdown",
   "id": "609b2b29-8586-4ce4-9df9-0b7bc831c033",
   "metadata": {},
   "source": [
    "Training our CNN is almost identical to training our FNN; the only real difference here is that we will use our new `CNNModel` class instead of the FNN model we defined in the last section."
   ]
  },
  {
   "cell_type": "code",
   "execution_count": null,
   "id": "76395b94-d806-4a1c-b86b-1a3a83f76521",
   "metadata": {},
   "outputs": [],
   "source": [
    "# Hyperparameters:\n",
    "n_epochs = 5       # 1 epoch: you show all your training data to your model once\n",
    "lr = 0.001         # We use a fairly low learning rate.\n",
    "batch_size = 1000  # How many images in one training batch.\n",
    "\n",
    "# Make the model:\n",
    "model = CNNModel()\n",
    "\n",
    "# Make the optimizer:\n",
    "optimizer = torch.optim.Adam(model.parameters(), lr=lr)\n",
    "\n",
    "# Declare our loss function:\n",
    "loss_fn = torch.nn.CrossEntropyLoss(reduction='sum')\n",
    "\n",
    "# Make the dataloaders:\n",
    "train_dloader = torch.utils.data.DataLoader(train_dset, batch_size=batch_size, shuffle=True)\n",
    "test_dloader = torch.utils.data.DataLoader(test_dset, batch_size=batch_size, shuffle=True)\n",
    "\n",
    "# Now we start the optimization loop:\n",
    "for epoch_num in range(n_epochs):\n",
    "    # Put the model in train mode:\n",
    "    model.train()\n",
    "    # In each epoch, we go through each training sample once; the dataloader\n",
    "    # gives these to us in batches:\n",
    "    total_train_loss = 0\n",
    "    for (inputs, targets) in train_dloader:\n",
    "        # We're starting a new step, so we reset the gradients.\n",
    "        optimizer.zero_grad()\n",
    "        # Calculate the model prediction for these inputs.\n",
    "        preds = model(inputs)\n",
    "        # Calculate the loss between the prediction and the actual outputs.\n",
    "        train_loss = loss_fn(preds, targets)\n",
    "        # Have PyTorch backward-propagate the gradients.\n",
    "        train_loss.backward()\n",
    "        # Have the optimizer take a step:\n",
    "        optimizer.step()\n",
    "        # Add up the total training loss:\n",
    "        total_train_loss = total_train_loss + train_loss\n",
    "    mean_train_loss = (total_train_loss / len(train_dset)).detach()\n",
    "    # Now that we've finished training, put the model back in evaluation mode.\n",
    "    model.eval()\n",
    "    # Evaluate the model using the test data.\n",
    "    total_test_loss = 0\n",
    "    for (inputs, targets) in test_dloader:\n",
    "        preds = model(inputs)\n",
    "        test_loss = loss_fn(preds, targets)\n",
    "        total_test_loss = total_test_loss + train_loss\n",
    "    mean_test_loss = (total_test_loss / len(test_dset)).detach()\n",
    "    # Print something about this step:\n",
    "    print(f\"Epoch {epoch_num:2d}:\"\n",
    "          f\"  train loss={mean_train_loss:6.3f};\"\n",
    "          f\"  test loss={mean_test_loss:6.3f}\")\n",
    "# After the optimizer has run, print out what it's found:\n",
    "print(\"Final result:\")\n",
    "print(f\"  train loss = \", float(mean_train_loss))\n",
    "print(f\"   test loss = \", float(mean_test_loss))"
   ]
  },
  {
   "cell_type": "markdown",
   "id": "d3bf85de-1f97-48f0-b639-bd1a21a44c18",
   "metadata": {},
   "source": [
    "Clearly out training was successful in that the model performed better as the training went on, both on the training and the test dataset. However, the accuracy achieved was not as high as it was for the FNN in the previous section. This is partly because, despite the apparent complexity of the convolution operator, we have defined a very simple neural network. In fact, our CNN has only 676 parameters. The final FNN we built in the previous section had 1,863,690 parameters! On some level, the most surprising thing about this is how well our CNN does given that the FNN has almost 3000 times as many parameter dimensions!\n",
    "\n",
    "````{note}\n",
    "We can calculate the number of parameters (dimensions) in a model by extracting the individual parameter tensors and counting up the number of elements in each. The parameter tensors can be obtained via the `model.parameters()` method:\n",
    "\n",
    "```python\n",
    "# Note that we have to convert the tensor shapes and products into tensors\n",
    "# themselves in order use them with PyTorch functions like `prod`.\n",
    "n_params = sum(\n",
    "    [torch.prod(torch.tensor(param_tens.shape))\n",
    "     for param_tens in model.parameters()])\n",
    "```\n",
    "\n",
    "````"
   ]
  },
  {
   "cell_type": "markdown",
   "id": "28a9eca4-f546-4f8e-baaf-45d6b6da7e1f",
   "metadata": {},
   "source": [
    "Additionally, although we have included some rectified linear unit (ReLU) layers to act as activation functions, there are a number of additional layers that are known to be effective for convolutional neural networks specifically that we haven't used. Let's look at a couple of examples of these:\n",
    "* **Max pooling layers**. Max pooling layers divide the image up into a number of sub-images and select the maximum pixel value (usually within a channel) of the sub-images. This operation is a way of allowing the network to aggregate computations over subportions of the image. The following image shows an example of how max pooling works.\n",
    "\n",
    "  ![Max Pooling Demonstration](../_static/images/maxpooling.png \"Max Pooling Demonstration\")\n",
    "  <p style=\"font-size: 8pt\">Image credit: Daniel Voigt Godoy, CC-BY-4, via Wikimedia Commons</p>\n",
    "* **Layer normalization layers**. There are a number of ways to normalize the input and hidden layers of a CNN; normalization can occur across channels, across batches, across feature dimensions, or any other combination of these. We will not discuss all the possible ways to normalize CNN data, but one of the most common kind of normalization in CNNs is layer noralization, in which each observation in the batch is normalized independently.\n",
    "\n",
    "Let's try to build a CNN using these new tools then try training it again."
   ]
  },
  {
   "cell_type": "code",
   "execution_count": null,
   "id": "440eaab2-ede4-4948-9d32-0f22de7a5c88",
   "metadata": {},
   "outputs": [],
   "source": [
    "class ComplexCNNBlock(torch.nn.Module):\n",
    "    \"A single component of our complex CNN.\"\n",
    "    def __init__(self, input_channels):\n",
    "        super().__init__()\n",
    "        # Each block\n",
    "        self.conv1 = torch.nn.Conv2d(\n",
    "            in_channels=input_channels,\n",
    "            out_channels=(4*input_channels),\n",
    "            kernel_size=3,\n",
    "            # By providing padding=1, we prevent the erosion of the input by\n",
    "            # 1 pixel along each border when we convolve.\n",
    "            padding=1)\n",
    "        self.relu = torch.nn.ReLU()\n",
    "        self.conv2 = torch.nn.Conv2d(\n",
    "            in_channels=(4*input_channels),\n",
    "            out_channels=(4*input_channels),\n",
    "            kernel_size=3,\n",
    "            padding=1)\n",
    "        # We make a MaxPool analysis that pools over 2x2 patches:\n",
    "        self.maxpool = torch.nn.MaxPool2d(2)\n",
    "    def forward(self, inputs):\n",
    "        out = self.conv1(inputs)\n",
    "        out = self.relu(out)\n",
    "        out = self.conv2(out)\n",
    "        return self.maxpool(out)\n",
    "\n",
    "class ComplexCNNModel(torch.nn.Module):\n",
    "    \"A more complex convolutional neural network model for the MNIST dataset.\"\n",
    "    def __init__(self,\n",
    "                 input_channels=1,\n",
    "                 output_channels=10):\n",
    "        super().__init__()\n",
    "        # We'll start with a layer norm operation to make sure our inputs are\n",
    "        # normalized; we provide the input [28, 28] to indicate that we want\n",
    "        # to normalize over the last 2 dimensions.\n",
    "        self.input_norm = torch.nn.LayerNorm([28, 28])\n",
    "        # Next, we'll have four of our ComplexCNNBlocks:\n",
    "        self.block1 = ComplexCNNBlock(input_channels)\n",
    "        self.block2 = ComplexCNNBlock(4 * input_channels)\n",
    "        self.block3 = ComplexCNNBlock(16 * input_channels)\n",
    "        self.final = torch.nn.LazyLinear(out_features=10)\n",
    "    def forward(self, inputs):\n",
    "        inputs = self.input_norm(inputs)\n",
    "        output = self.block1(inputs)\n",
    "        output = self.block2(output)\n",
    "        output = self.block3(output)\n",
    "        output = self.final(torch.reshape(output, (inputs.shape[0], 1, -1)))\n",
    "        return output[:, 0]\n",
    "    def predict(self, inputs):\n",
    "        \"\"\"Returns the integer digit prediction for the given input tensor.\n",
    "\n",
    "        This model's outputs are a 10-element tensor in which each of the 10\n",
    "        dimensions represents one digit; the dimension with the highest value\n",
    "        indicates the model's predicted digit. This function runs the model on\n",
    "        an input and translates the model's output into a digit.\n",
    "        \"\"\"\n",
    "        outputs = model(inputs)\n",
    "        # Keep in mind there will be a batch dimension for inputs and outputs.\n",
    "        digits = torch.argmax(outputs, dim=-1)\n",
    "        return digits.to(torch.uint8)\n",
    "\n",
    "model = ComplexCNNModel()\n",
    "model"
   ]
  },
  {
   "cell_type": "code",
   "execution_count": null,
   "id": "e0286bcc-2709-41ac-a292-59d69bbdbd4c",
   "metadata": {},
   "outputs": [],
   "source": [
    "# Hyperparameters:\n",
    "n_epochs = 5       # 1 epoch: you show all your training data to your model once\n",
    "lr = 0.001         # We use a fairly low learning rate.\n",
    "batch_size = 1000  # How many images in one training batch.\n",
    "\n",
    "# Make the model:\n",
    "model = ComplexCNNModel()\n",
    "\n",
    "# Make the optimizer:\n",
    "optimizer = torch.optim.Adam(model.parameters(), lr=lr)\n",
    "\n",
    "# Declare our loss function:\n",
    "loss_fn = torch.nn.CrossEntropyLoss(reduction='sum')\n",
    "\n",
    "# Make the dataloaders:\n",
    "train_dloader = torch.utils.data.DataLoader(train_dset, batch_size=batch_size, shuffle=True)\n",
    "test_dloader = torch.utils.data.DataLoader(test_dset, batch_size=batch_size, shuffle=True)\n",
    "\n",
    "# Now we start the optimization loop:\n",
    "for epoch_num in range(n_epochs):\n",
    "    # Put the model in train mode:\n",
    "    model.train()\n",
    "    # In each epoch, we go through each training sample once; the dataloader\n",
    "    # gives these to us in batches:\n",
    "    total_train_loss = 0\n",
    "    for (inputs, targets) in train_dloader:\n",
    "        # We're starting a new step, so we reset the gradients.\n",
    "        optimizer.zero_grad()\n",
    "        # Calculate the model prediction for these inputs.\n",
    "        preds = model(inputs)\n",
    "        # Calculate the loss between the prediction and the actual outputs.\n",
    "        train_loss = loss_fn(preds, targets)\n",
    "        # Have PyTorch backward-propagate the gradients.\n",
    "        train_loss.backward()\n",
    "        # Have the optimizer take a step:\n",
    "        optimizer.step()\n",
    "        # Add up the total training loss:\n",
    "        total_train_loss = total_train_loss + train_loss\n",
    "    mean_train_loss = total_train_loss.detach() / len(train_dset)\n",
    "    # Now that we've finished training, put the model back in evaluation mode.\n",
    "    model.eval()\n",
    "    # Evaluate the model using the test data.\n",
    "    total_test_loss = 0\n",
    "    for (inputs, targets) in test_dloader:\n",
    "        preds = model(inputs)\n",
    "        test_loss = loss_fn(preds, targets)\n",
    "        total_test_loss = total_test_loss + train_loss\n",
    "    mean_test_loss = total_test_loss.detach() / len(test_dset)\n",
    "    # Print something about this step:\n",
    "    print(f\"Epoch {epoch_num:2d}:\"\n",
    "          f\"  train loss={mean_train_loss:6.3f};\"\n",
    "          f\"  test loss={mean_test_loss:6.3f}\")\n",
    "# After the optimizer has run, print out what it's found:\n",
    "print(\"Final result:\")\n",
    "print(f\"  train loss = \", float(mean_train_loss))\n",
    "print(f\"   test loss = \", float(mean_test_loss))"
   ]
  },
  {
   "cell_type": "markdown",
   "id": "13cf51a7-e107-4d4b-b5ba-51baeae1c889",
   "metadata": {},
   "source": [
    "While the exact loss value that your network achieves will depend on random factors, such as the random initial values assigned to the model parameters, hopefully it is clear that this version of the network worked quite a bit better than the previous version and is roughly comparable with the model that we produces in the previous section. We substantially increased the complexity of each convolutional layer this time by adding many additional output channels. This model has a 56,646 dimensions in its parameter-space, making it substnatially larger than our first model, but still only about 5% of the size of our FNN model."
   ]
  }
 ],
 "metadata": {
  "kernelspec": {
   "display_name": "Python 3 (ipykernel)",
   "language": "python",
   "name": "python3"
  },
  "language_info": {
   "codemirror_mode": {
    "name": "ipython",
    "version": 3
   },
   "file_extension": ".py",
   "mimetype": "text/x-python",
   "name": "python",
   "nbconvert_exporter": "python",
   "pygments_lexer": "ipython3",
   "version": "3.12.11"
  }
 },
 "nbformat": 4,
 "nbformat_minor": 5
}
